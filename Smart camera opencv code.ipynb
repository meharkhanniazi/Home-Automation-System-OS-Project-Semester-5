{
 "cells": [
  {
   "cell_type": "code",
   "execution_count": null,
   "id": "60c73f47",
   "metadata": {},
   "outputs": [
    {
     "name": "stdout",
     "output_type": "stream",
     "text": [
      "Started Recording!\n",
      "Stop Recording!\n",
      "Started Recording!\n"
     ]
    }
   ],
   "source": [
    "import cv2\n",
    "import time\n",
    "import datetime\n",
    "\n",
    "cameraseletion = cv2.VideoCapture(0)\n",
    "\n",
    "face_cascade = cv2.CascadeClassifier(\n",
    "    cv2.data.haarcascades + \"haarcascade_frontalface_default.xml\")\n",
    "body_cascade = cv2.CascadeClassifier(\n",
    "    cv2.data.haarcascades + \"haarcascade_fullbody.xml\")\n",
    "\n",
    "detection = False\n",
    "detection_stopped_time = None\n",
    "timer_started = False\n",
    "SECONDS_TO_RECORD_AFTER_DETECTION = 5\n",
    "\n",
    "frame_size = (int(cameraseletion.get(3)), int(cameraseletion.get(4)))\n",
    "fourcc = cv2.VideoWriter_fourcc(*\"mp4v\")\n",
    "\n",
    "while True:\n",
    "    _, frame = cameraseletion.read()\n",
    "\n",
    "    gray = cv2.cvtColor(frame, cv2.COLOR_BGR2GRAY)\n",
    "    faces = face_cascade.detectMultiScale(gray, 1.3, 5)\n",
    "    bodies = face_cascade.detectMultiScale(gray, 1.3, 5)\n",
    "\n",
    "    if len(faces) + len(bodies) > 0:\n",
    "        if detection:\n",
    "            timer_started = False\n",
    "        else:\n",
    "            detection = True\n",
    "            current_time = datetime.datetime.now().strftime(\"%d-%m-%Y-%H-%M-%S\")\n",
    "            out = cv2.VideoWriter(\n",
    "                f\"{current_time}.mp4\", fourcc, 20, frame_size)\n",
    "            print(\"Started Recording!\")\n",
    "    elif detection:\n",
    "        if timer_started:\n",
    "            if time.time() - detection_stopped_time >= SECONDS_TO_RECORD_AFTER_DETECTION:\n",
    "                detection = False\n",
    "                timer_started = False\n",
    "                out.release()\n",
    "                print('Stop Recording!')\n",
    "        else:\n",
    "            timer_started = True\n",
    "            detection_stopped_time = time.time()\n",
    "\n",
    "    if detection:\n",
    "        out.write(frame)\n",
    "\n",
    "    cv2.imshow(\"Camera\", frame)\n",
    "\n",
    "    if cv2.waitKey(1) == ord('q'):\n",
    "        break\n",
    "\n",
    "out.release()\n",
    "cameraseletion.release()\n",
    "cv2.destroyAllWindows()"
   ]
  },
  {
   "cell_type": "code",
   "execution_count": null,
   "id": "2e08173c",
   "metadata": {},
   "outputs": [],
   "source": []
  }
 ],
 "metadata": {
  "kernelspec": {
   "display_name": "Python 3 (ipykernel)",
   "language": "python",
   "name": "python3"
  },
  "language_info": {
   "codemirror_mode": {
    "name": "ipython",
    "version": 3
   },
   "file_extension": ".py",
   "mimetype": "text/x-python",
   "name": "python",
   "nbconvert_exporter": "python",
   "pygments_lexer": "ipython3",
   "version": "3.9.7"
  }
 },
 "nbformat": 4,
 "nbformat_minor": 5
}
